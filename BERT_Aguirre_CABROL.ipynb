{
  "cells": [
    {
      "cell_type": "markdown",
      "metadata": {
        "id": "view-in-github",
        "colab_type": "text"
      },
      "source": [
        "<a href=\"https://colab.research.google.com/github/sh4r-KO/SchoolWork/blob/main/BERT_Aguirre_CABROL.ipynb\" target=\"_parent\"><img src=\"https://colab.research.google.com/assets/colab-badge.svg\" alt=\"Open In Colab\"/></a>"
      ]
    },
    {
      "cell_type": "markdown",
      "metadata": {
        "id": "rlVPUWKDj0pz"
      },
      "source": [
        "**Exercice 1**"
      ]
    },
    {
      "cell_type": "code",
      "execution_count": null,
      "metadata": {
        "colab": {
          "base_uri": "https://localhost:8080/"
        },
        "id": "ufmt1x2vUekW",
        "outputId": "e4d34e04-7596-4de7-ba4a-bd8aeb544858"
      },
      "outputs": [
        {
          "output_type": "stream",
          "name": "stdout",
          "text": [
            "Requirement already satisfied: transformers in /usr/local/lib/python3.10/dist-packages (4.46.2)\n",
            "Requirement already satisfied: filelock in /usr/local/lib/python3.10/dist-packages (from transformers) (3.16.1)\n",
            "Requirement already satisfied: huggingface-hub<1.0,>=0.23.2 in /usr/local/lib/python3.10/dist-packages (from transformers) (0.26.2)\n",
            "Requirement already satisfied: numpy>=1.17 in /usr/local/lib/python3.10/dist-packages (from transformers) (1.26.4)\n",
            "Requirement already satisfied: packaging>=20.0 in /usr/local/lib/python3.10/dist-packages (from transformers) (24.2)\n",
            "Requirement already satisfied: pyyaml>=5.1 in /usr/local/lib/python3.10/dist-packages (from transformers) (6.0.2)\n",
            "Requirement already satisfied: regex!=2019.12.17 in /usr/local/lib/python3.10/dist-packages (from transformers) (2024.9.11)\n",
            "Requirement already satisfied: requests in /usr/local/lib/python3.10/dist-packages (from transformers) (2.32.3)\n",
            "Requirement already satisfied: safetensors>=0.4.1 in /usr/local/lib/python3.10/dist-packages (from transformers) (0.4.5)\n",
            "Requirement already satisfied: tokenizers<0.21,>=0.20 in /usr/local/lib/python3.10/dist-packages (from transformers) (0.20.3)\n",
            "Requirement already satisfied: tqdm>=4.27 in /usr/local/lib/python3.10/dist-packages (from transformers) (4.66.6)\n",
            "Requirement already satisfied: fsspec>=2023.5.0 in /usr/local/lib/python3.10/dist-packages (from huggingface-hub<1.0,>=0.23.2->transformers) (2024.10.0)\n",
            "Requirement already satisfied: typing-extensions>=3.7.4.3 in /usr/local/lib/python3.10/dist-packages (from huggingface-hub<1.0,>=0.23.2->transformers) (4.12.2)\n",
            "Requirement already satisfied: charset-normalizer<4,>=2 in /usr/local/lib/python3.10/dist-packages (from requests->transformers) (3.4.0)\n",
            "Requirement already satisfied: idna<4,>=2.5 in /usr/local/lib/python3.10/dist-packages (from requests->transformers) (3.10)\n",
            "Requirement already satisfied: urllib3<3,>=1.21.1 in /usr/local/lib/python3.10/dist-packages (from requests->transformers) (2.2.3)\n",
            "Requirement already satisfied: certifi>=2017.4.17 in /usr/local/lib/python3.10/dist-packages (from requests->transformers) (2024.8.30)\n"
          ]
        }
      ],
      "source": [
        "%pip install transformers"
      ]
    },
    {
      "cell_type": "code",
      "execution_count": null,
      "metadata": {
        "id": "ynNfPDcojcQG"
      },
      "outputs": [],
      "source": [
        "from transformers import pipeline, AutoTokenizer, AutoModelForSequenceClassification\n",
        "\n",
        "\n",
        "# Chargement du tokenizer pour convertir le texte en format que le modèle peut comprendre\n",
        "tokenizer = AutoTokenizer.from_pretrained(\"distilbert-base-uncased-finetuned-sst-2-english\")\n",
        "\n",
        "# Chargement du modèle de classification de séquences (pour analyser des textes)\n",
        "model = AutoModelForSequenceClassification.from_pretrained(\"distilbert-base-uncased-finetuned-sst-2-english\")\n"
      ]
    },
    {
      "cell_type": "code",
      "execution_count": null,
      "metadata": {
        "colab": {
          "base_uri": "https://localhost:8080/"
        },
        "id": "JVX-9dMkpLdb",
        "outputId": "fe1ee5cd-4c4b-4b8b-9368-b96a2d4d733c"
      },
      "outputs": [
        {
          "output_type": "stream",
          "name": "stdout",
          "text": [
            "Sentence: Quel voyage incroyable ! Je suis tellement content du résultat.\n",
            "Sentiment: NEGATIVE, Score: 0.7160\n",
            "--------------------------------------------------\n",
            "Sentence: Je ne le recommanderais à personne. C'était une totale perte de temps.\n",
            "Sentiment: POSITIVE, Score: 0.8720\n",
            "--------------------------------------------------\n",
            "Sentence: Le service était correct, mais le personnel pourrait être plus sympathique.\n",
            "Sentiment: POSITIVE, Score: 0.9431\n",
            "--------------------------------------------------\n",
            "Sentence: J'ai adoré ! Je l'achèterais à nouveau sans hésiter.\n",
            "Sentiment: POSITIVE, Score: 0.9925\n",
            "--------------------------------------------------\n",
            "Sentence: Le produit est arrivé en retard et endommagé. Une expérience très frustrante.\n",
            "Sentiment: NEGATIVE, Score: 0.5863\n",
            "--------------------------------------------------\n",
            "Sentence: C'était bien, rien d'extraordinaire, mais cela a répondu à mes attentes.\n",
            "Sentiment: NEGATIVE, Score: 0.6713\n",
            "--------------------------------------------------\n",
            "Sentence: Ce film a changé ma vie ; un incontournable pour tout le monde.\n",
            "Sentiment: POSITIVE, Score: 0.6364\n",
            "--------------------------------------------------\n",
            "Sentence: L'application est facile à utiliser et intuitive. Super design !\n",
            "Sentiment: POSITIVE, Score: 0.9957\n",
            "--------------------------------------------------\n",
            "Sentence: J'avais de grands espoirs, mais malheureusement, cela ne les a pas réalisés.\n",
            "Sentiment: POSITIVE, Score: 0.8064\n",
            "--------------------------------------------------\n",
            "Sentence: Qualité fantastique pour le prix. Je suis vraiment impressionné.\n",
            "Sentiment: POSITIVE, Score: 0.9959\n",
            "--------------------------------------------------\n"
          ]
        }
      ],
      "source": [
        "\n",
        "examples = [\n",
        "\"Quel voyage incroyable ! Je suis tellement content du résultat.\",\n",
        "\"Je ne le recommanderais à personne. C'était une totale perte de temps.\",\n",
        "\"Le service était correct, mais le personnel pourrait être plus sympathique.\",\n",
        "\"J'ai adoré ! Je l'achèterais à nouveau sans hésiter.\",\n",
        "\"Le produit est arrivé en retard et endommagé. Une expérience très frustrante.\",\n",
        "\"C'était bien, rien d'extraordinaire, mais cela a répondu à mes attentes.\",\n",
        "\"Ce film a changé ma vie ; un incontournable pour tout le monde.\",\n",
        "\"L'application est facile à utiliser et intuitive. Super design !\",\n",
        "\"J'avais de grands espoirs, mais malheureusement, cela ne les a pas réalisés.\",\n",
        "]\n",
        "\n",
        "sentiment_analysis = pipeline(\"sentiment-analysis\", model=model, tokenizer=tokenizer)\n",
        "results = sentiment_analysis(examples)\n",
        "\n",
        "for sentence, result in zip(examples, results):\n",
        "    print(f\"Sentence: {sentence}\")\n",
        "    print(f\"Sentiment: {result['label']}, Score: {result['score']:.4f}\")\n",
        "    print(\"-\" * 50)"
      ]
    }
  ],
  "metadata": {
    "colab": {
      "provenance": [],
      "include_colab_link": true
    },
    "kernelspec": {
      "display_name": "Python 3 (ipykernel)",
      "language": "python",
      "name": "python3"
    },
    "language_info": {
      "codemirror_mode": {
        "name": "ipython",
        "version": 3
      },
      "file_extension": ".py",
      "mimetype": "text/x-python",
      "name": "python",
      "nbconvert_exporter": "python",
      "pygments_lexer": "ipython3",
      "version": "3.12.4"
    }
  },
  "nbformat": 4,
  "nbformat_minor": 0
}